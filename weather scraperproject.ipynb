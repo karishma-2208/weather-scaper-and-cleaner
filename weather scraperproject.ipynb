{
 "cells": [
  {
   "cell_type": "code",
   "execution_count": 145,
   "id": "283bf92b-f28c-4704-a6f2-7f9701bfd7a8",
   "metadata": {},
   "outputs": [
    {
     "name": "stdout",
     "output_type": "stream",
     "text": [
      "      Date and Time     Temperature (°C)  Humidity (%)  windspeed (m/s)\n",
      "0  2025-10-21 00:00:00       23.50             83            2.40      \n",
      "1  2025-10-21 01:00:00       23.60             83            5.10      \n",
      "2  2025-10-21 02:00:00       23.40             85            3.60      \n",
      "3  2025-10-21 03:00:00       25.60             74            4.00      \n",
      "4  2025-10-21 04:00:00       27.40             65            5.50      \n",
      "5  2025-10-21 05:00:00       28.70             59            5.70      \n",
      "6  2025-10-21 06:00:00       30.40             52            3.70      \n",
      "7  2025-10-21 07:00:00       30.80             50            3.70      \n",
      "8  2025-10-21 08:00:00       30.60             52            3.90      \n",
      "9  2025-10-21 09:00:00       30.00             57            5.60      \n",
      "10 2025-10-21 10:00:00       29.10             62            6.10      \n",
      "11 2025-10-21 11:00:00       26.70             74            1.80      \n",
      "12 2025-10-21 12:00:00       25.40             78            3.20      \n",
      "13 2025-10-21 13:00:00       24.60             83            4.10      \n",
      "14 2025-10-21 14:00:00       24.10             87            3.40      \n",
      "15 2025-10-21 15:00:00       23.90             88            1.80      \n",
      "16 2025-10-21 16:00:00       23.80             88            0.80      \n",
      "17 2025-10-21 17:00:00       23.60             89            1.90      \n",
      "18 2025-10-21 18:00:00       23.30             89            2.30      \n",
      "19 2025-10-21 19:00:00       23.00             90            2.70      \n"
     ]
    }
   ],
   "source": [
    "#WEATHER SCRAPER AND CLEANER \n",
    "import requests\n",
    "import pandas as pd\n",
    "import matplotlib.pyplot as plt\n",
    "from datetime import datetime, timedelta\n",
    "#latitude and longitude of Delhi\n",
    "latitude=28.6139\n",
    "longitude=77.2090\n",
    "#seven days data range\n",
    "start_date = (datetime.today().strftime(\"%Y-%m-%d\"))\n",
    "end_date = (datetime.today() + timedelta(days=6)).strftime(\"%Y-%m-%d\")\n",
    "\n",
    "#feching weather data from API\n",
    "url = (f\"https://api.open-meteo.com/v1/forecast?\"\n",
    "    f\"latitude={latitude}&longitude={longitude}&\"\n",
    "    f\"hourly=temperature_2m,relative_humidity_2m,windspeed_10m\"\n",
    "    f\"start={start_date}T00:00&end={end_date}T23:00\")\n",
    "try:\n",
    "    response = requests.get(url)\n",
    "    response.raise_for_status()  # checks if something went wrong\n",
    "    data = response.json()       # converts response to Python dictionary\n",
    "except:\n",
    "    print(\" Could not get data from API\")\n",
    "    data = None\n",
    "\n",
    "if data and 'hourly' in data:\n",
    "    hourly = data['hourly']  \n",
    "else:\n",
    "    hourly = None\n",
    "    print(\" No hourly data found\")\n",
    "\n",
    "#cleaning data\n",
    "df = pd.DataFrame(hourly)\n",
    "df['time'] = pd.to_datetime(df['time'])  \n",
    "df = df.dropna()  # remove empty values\n",
    "df = df.rename(columns={\n",
    "   'temperature_2m': 'Temperature (°C)',\n",
    "   'relative_humidity_2m': 'Humidity (%)',\n",
    "   'windspeed_10m': 'windspeed (m/s)',\n",
    "    'time': 'Date and Time'\n",
    "    })\n",
    "df['windspeed (m/s)']=df['windspeed (m/s)'].astype(float)\n",
    "pd.set_option('display.max_columns',None)\n",
    "pd.set_option('display.width',1000)\n",
    "pd.set_option('display.colheader_justify','center')\n",
    "pd.set_option('display.float_format','{:,.2f}'.format)\n",
    "\n",
    "print(df.head(20).to_string())   #can change accordingly      \n",
    "\n",
    "     \n"
   ]
  },
  {
   "cell_type": "code",
   "execution_count": 146,
   "id": "9cc64dfe-6096-4f65-8b43-369d6e95e378",
   "metadata": {},
   "outputs": [
    {
     "name": "stdout",
     "output_type": "stream",
     "text": [
      "       Temperature (°C)  Humidity (%)  windspeed (m/s)\n",
      "count       168.00          168.00         168.00     \n",
      "mean         24.05           68.85           3.65     \n",
      "std           3.67           14.92           1.74     \n",
      "min          18.30           37.00           0.40     \n",
      "25%          20.98           57.00           2.60     \n",
      "50%          23.55           72.00           3.50     \n",
      "75%          27.62           81.00           4.30     \n",
      "max          30.80           98.00           9.90     \n"
     ]
    }
   ],
   "source": [
    "print(df.describe(include=[float, int]))"
   ]
  },
  {
   "cell_type": "code",
   "execution_count": 147,
   "id": "3fc272cc-ce93-4968-84cc-766c20bd50c5",
   "metadata": {},
   "outputs": [
    {
     "name": "stdout",
     "output_type": "stream",
     "text": [
      "saved as 'Delhi_weather.csv'\n"
     ]
    }
   ],
   "source": [
    "df.to_csv(\"Delhi_weather.csv\", index=False)\n",
    "print(\"saved as 'Delhi_weather.csv'\")"
   ]
  }
 ],
 "metadata": {
  "kernelspec": {
   "display_name": "Python 3 (ipykernel)",
   "language": "python",
   "name": "python3"
  },
  "language_info": {
   "codemirror_mode": {
    "name": "ipython",
    "version": 3
   },
   "file_extension": ".py",
   "mimetype": "text/x-python",
   "name": "python",
   "nbconvert_exporter": "python",
   "pygments_lexer": "ipython3",
   "version": "3.13.5"
  }
 },
 "nbformat": 4,
 "nbformat_minor": 5
}
